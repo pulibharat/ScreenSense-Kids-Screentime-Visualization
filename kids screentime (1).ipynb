{
 "cells": [
  {
   "cell_type": "code",
   "execution_count": 4,
   "id": "1d4ddd4a-9da3-4cb7-a8f3-2f8432d84941",
   "metadata": {},
   "outputs": [],
   "source": [
    "import pandas as pd\n",
    "import numpy as np\n",
    "import matplotlib.pyplot as plt\n",
    "import seaborn as sns\n"
   ]
  },
  {
   "cell_type": "code",
   "execution_count": null,
   "id": "adf76e78-9097-4377-b44b-a047210848ca",
   "metadata": {},
   "outputs": [],
   "source": [
    "# Load the dataset into a DataFrame"
   ]
  },
  {
   "cell_type": "code",
   "execution_count": 5,
   "id": "43a32361-78a8-40c6-af7b-35f8092f3886",
   "metadata": {},
   "outputs": [],
   "source": [
    "df=pd.read_csv(\"Indian_Kids_Screen_Time.csv\")"
   ]
  },
  {
   "cell_type": "code",
   "execution_count": null,
   "id": "a612814c-43e3-4e4a-a34b-662dcd792bf5",
   "metadata": {},
   "outputs": [],
   "source": [
    "# Check basic information about the dataset"
   ]
  },
  {
   "cell_type": "code",
   "execution_count": 6,
   "id": "ed4d75d4-d6d8-40fa-92a9-a6912a3ed594",
   "metadata": {},
   "outputs": [
    {
     "data": {
      "text/html": [
       "<div>\n",
       "<style scoped>\n",
       "    .dataframe tbody tr th:only-of-type {\n",
       "        vertical-align: middle;\n",
       "    }\n",
       "\n",
       "    .dataframe tbody tr th {\n",
       "        vertical-align: top;\n",
       "    }\n",
       "\n",
       "    .dataframe thead th {\n",
       "        text-align: right;\n",
       "    }\n",
       "</style>\n",
       "<table border=\"1\" class=\"dataframe\">\n",
       "  <thead>\n",
       "    <tr style=\"text-align: right;\">\n",
       "      <th></th>\n",
       "      <th>Age</th>\n",
       "      <th>Gender</th>\n",
       "      <th>Avg_Daily_Screen_Time_hr</th>\n",
       "      <th>Primary_Device</th>\n",
       "      <th>Exceeded_Recommended_Limit</th>\n",
       "      <th>Educational_to_Recreational_Ratio</th>\n",
       "      <th>Health_Impacts</th>\n",
       "      <th>Urban_or_Rural</th>\n",
       "    </tr>\n",
       "  </thead>\n",
       "  <tbody>\n",
       "    <tr>\n",
       "      <th>0</th>\n",
       "      <td>14</td>\n",
       "      <td>Male</td>\n",
       "      <td>3.99</td>\n",
       "      <td>Smartphone</td>\n",
       "      <td>True</td>\n",
       "      <td>0.42</td>\n",
       "      <td>Poor Sleep, Eye Strain</td>\n",
       "      <td>Urban</td>\n",
       "    </tr>\n",
       "    <tr>\n",
       "      <th>1</th>\n",
       "      <td>11</td>\n",
       "      <td>Female</td>\n",
       "      <td>4.61</td>\n",
       "      <td>Laptop</td>\n",
       "      <td>True</td>\n",
       "      <td>0.30</td>\n",
       "      <td>Poor Sleep</td>\n",
       "      <td>Urban</td>\n",
       "    </tr>\n",
       "    <tr>\n",
       "      <th>2</th>\n",
       "      <td>18</td>\n",
       "      <td>Female</td>\n",
       "      <td>3.73</td>\n",
       "      <td>TV</td>\n",
       "      <td>True</td>\n",
       "      <td>0.32</td>\n",
       "      <td>Poor Sleep</td>\n",
       "      <td>Urban</td>\n",
       "    </tr>\n",
       "    <tr>\n",
       "      <th>3</th>\n",
       "      <td>15</td>\n",
       "      <td>Female</td>\n",
       "      <td>1.21</td>\n",
       "      <td>Laptop</td>\n",
       "      <td>False</td>\n",
       "      <td>0.39</td>\n",
       "      <td>NaN</td>\n",
       "      <td>Urban</td>\n",
       "    </tr>\n",
       "    <tr>\n",
       "      <th>4</th>\n",
       "      <td>12</td>\n",
       "      <td>Female</td>\n",
       "      <td>5.89</td>\n",
       "      <td>Smartphone</td>\n",
       "      <td>True</td>\n",
       "      <td>0.49</td>\n",
       "      <td>Poor Sleep, Anxiety</td>\n",
       "      <td>Urban</td>\n",
       "    </tr>\n",
       "    <tr>\n",
       "      <th>...</th>\n",
       "      <td>...</td>\n",
       "      <td>...</td>\n",
       "      <td>...</td>\n",
       "      <td>...</td>\n",
       "      <td>...</td>\n",
       "      <td>...</td>\n",
       "      <td>...</td>\n",
       "      <td>...</td>\n",
       "    </tr>\n",
       "    <tr>\n",
       "      <th>9707</th>\n",
       "      <td>17</td>\n",
       "      <td>Male</td>\n",
       "      <td>3.26</td>\n",
       "      <td>Smartphone</td>\n",
       "      <td>True</td>\n",
       "      <td>0.44</td>\n",
       "      <td>Poor Sleep</td>\n",
       "      <td>Urban</td>\n",
       "    </tr>\n",
       "    <tr>\n",
       "      <th>9708</th>\n",
       "      <td>17</td>\n",
       "      <td>Female</td>\n",
       "      <td>4.43</td>\n",
       "      <td>Smartphone</td>\n",
       "      <td>True</td>\n",
       "      <td>0.40</td>\n",
       "      <td>Poor Sleep</td>\n",
       "      <td>Rural</td>\n",
       "    </tr>\n",
       "    <tr>\n",
       "      <th>9709</th>\n",
       "      <td>16</td>\n",
       "      <td>Male</td>\n",
       "      <td>5.62</td>\n",
       "      <td>Smartphone</td>\n",
       "      <td>True</td>\n",
       "      <td>0.39</td>\n",
       "      <td>Poor Sleep, Eye Strain, Anxiety</td>\n",
       "      <td>Rural</td>\n",
       "    </tr>\n",
       "    <tr>\n",
       "      <th>9710</th>\n",
       "      <td>17</td>\n",
       "      <td>Male</td>\n",
       "      <td>5.60</td>\n",
       "      <td>TV</td>\n",
       "      <td>True</td>\n",
       "      <td>0.43</td>\n",
       "      <td>Poor Sleep</td>\n",
       "      <td>Urban</td>\n",
       "    </tr>\n",
       "    <tr>\n",
       "      <th>9711</th>\n",
       "      <td>15</td>\n",
       "      <td>Female</td>\n",
       "      <td>6.12</td>\n",
       "      <td>TV</td>\n",
       "      <td>True</td>\n",
       "      <td>0.33</td>\n",
       "      <td>Anxiety</td>\n",
       "      <td>Urban</td>\n",
       "    </tr>\n",
       "  </tbody>\n",
       "</table>\n",
       "<p>9712 rows × 8 columns</p>\n",
       "</div>"
      ],
      "text/plain": [
       "      Age  Gender  Avg_Daily_Screen_Time_hr Primary_Device  \\\n",
       "0      14    Male                      3.99     Smartphone   \n",
       "1      11  Female                      4.61         Laptop   \n",
       "2      18  Female                      3.73             TV   \n",
       "3      15  Female                      1.21         Laptop   \n",
       "4      12  Female                      5.89     Smartphone   \n",
       "...   ...     ...                       ...            ...   \n",
       "9707   17    Male                      3.26     Smartphone   \n",
       "9708   17  Female                      4.43     Smartphone   \n",
       "9709   16    Male                      5.62     Smartphone   \n",
       "9710   17    Male                      5.60             TV   \n",
       "9711   15  Female                      6.12             TV   \n",
       "\n",
       "      Exceeded_Recommended_Limit  Educational_to_Recreational_Ratio  \\\n",
       "0                           True                               0.42   \n",
       "1                           True                               0.30   \n",
       "2                           True                               0.32   \n",
       "3                          False                               0.39   \n",
       "4                           True                               0.49   \n",
       "...                          ...                                ...   \n",
       "9707                        True                               0.44   \n",
       "9708                        True                               0.40   \n",
       "9709                        True                               0.39   \n",
       "9710                        True                               0.43   \n",
       "9711                        True                               0.33   \n",
       "\n",
       "                       Health_Impacts Urban_or_Rural  \n",
       "0              Poor Sleep, Eye Strain          Urban  \n",
       "1                          Poor Sleep          Urban  \n",
       "2                          Poor Sleep          Urban  \n",
       "3                                 NaN          Urban  \n",
       "4                 Poor Sleep, Anxiety          Urban  \n",
       "...                               ...            ...  \n",
       "9707                       Poor Sleep          Urban  \n",
       "9708                       Poor Sleep          Rural  \n",
       "9709  Poor Sleep, Eye Strain, Anxiety          Rural  \n",
       "9710                       Poor Sleep          Urban  \n",
       "9711                          Anxiety          Urban  \n",
       "\n",
       "[9712 rows x 8 columns]"
      ]
     },
     "execution_count": 6,
     "metadata": {},
     "output_type": "execute_result"
    }
   ],
   "source": [
    "df"
   ]
  },
  {
   "cell_type": "code",
   "execution_count": 7,
   "id": "574204b4-4faf-438a-a646-7814b7c1a1cd",
   "metadata": {},
   "outputs": [
    {
     "data": {
      "text/plain": [
       "77696"
      ]
     },
     "execution_count": 7,
     "metadata": {},
     "output_type": "execute_result"
    }
   ],
   "source": [
    "df.size"
   ]
  },
  {
   "cell_type": "code",
   "execution_count": 8,
   "id": "325aad2c-ed74-4d5d-838c-f9d1b2fbcf90",
   "metadata": {},
   "outputs": [
    {
     "name": "stdout",
     "output_type": "stream",
     "text": [
      "<class 'pandas.core.frame.DataFrame'>\n",
      "RangeIndex: 9712 entries, 0 to 9711\n",
      "Data columns (total 8 columns):\n",
      " #   Column                             Non-Null Count  Dtype  \n",
      "---  ------                             --------------  -----  \n",
      " 0   Age                                9712 non-null   int64  \n",
      " 1   Gender                             9712 non-null   object \n",
      " 2   Avg_Daily_Screen_Time_hr           9712 non-null   float64\n",
      " 3   Primary_Device                     9712 non-null   object \n",
      " 4   Exceeded_Recommended_Limit         9712 non-null   bool   \n",
      " 5   Educational_to_Recreational_Ratio  9712 non-null   float64\n",
      " 6   Health_Impacts                     6494 non-null   object \n",
      " 7   Urban_or_Rural                     9712 non-null   object \n",
      "dtypes: bool(1), float64(2), int64(1), object(4)\n",
      "memory usage: 540.7+ KB\n"
     ]
    }
   ],
   "source": [
    "df.info()"
   ]
  },
  {
   "cell_type": "code",
   "execution_count": 9,
   "id": "1ab910ec-60c9-462a-8e77-51ce10f8b33e",
   "metadata": {},
   "outputs": [
    {
     "name": "stdout",
     "output_type": "stream",
     "text": [
      "Age                                     0\n",
      "Gender                                  0\n",
      "Avg_Daily_Screen_Time_hr                0\n",
      "Primary_Device                          0\n",
      "Exceeded_Recommended_Limit              0\n",
      "Educational_to_Recreational_Ratio       0\n",
      "Health_Impacts                       3218\n",
      "Urban_or_Rural                          0\n",
      "dtype: int64\n"
     ]
    }
   ],
   "source": [
    "print(df.isnull().sum())"
   ]
  },
  {
   "cell_type": "code",
   "execution_count": null,
   "id": "45c35ffc-1e72-4b27-a47c-21bed558d4a5",
   "metadata": {},
   "outputs": [],
   "source": [
    "# Handle missing data in the 'Health_Impacts' column\n",
    "# Missing values are replaced with 'Unknown' to avoid errors in analysis"
   ]
  },
  {
   "cell_type": "code",
   "execution_count": 10,
   "id": "c038b9da-9e2d-41ed-8a48-d976cc9e4d80",
   "metadata": {},
   "outputs": [],
   "source": [
    "df['Health_Impacts'] = df['Health_Impacts'].fillna('Unknown')"
   ]
  },
  {
   "cell_type": "code",
   "execution_count": 11,
   "id": "ec5aa28d-a909-4596-a840-09eac2b70c09",
   "metadata": {},
   "outputs": [
    {
     "name": "stdout",
     "output_type": "stream",
     "text": [
      "Age                                  0\n",
      "Gender                               0\n",
      "Avg_Daily_Screen_Time_hr             0\n",
      "Primary_Device                       0\n",
      "Exceeded_Recommended_Limit           0\n",
      "Educational_to_Recreational_Ratio    0\n",
      "Health_Impacts                       0\n",
      "Urban_or_Rural                       0\n",
      "dtype: int64\n"
     ]
    }
   ],
   "source": [
    "print(df.isnull().sum())"
   ]
  },
  {
   "cell_type": "code",
   "execution_count": null,
   "id": "b5a3da0e-ad96-4cc0-bd7e-d13a0e55642a",
   "metadata": {},
   "outputs": [],
   "source": [
    "# Explore distribution of Urban vs Rural kids"
   ]
  },
  {
   "cell_type": "code",
   "execution_count": 12,
   "id": "f98d7c13-dfef-4ed2-82b3-f1367735e9d6",
   "metadata": {},
   "outputs": [
    {
     "data": {
      "text/plain": [
       "Urban_or_Rural\n",
       "Urban    6851\n",
       "Rural    2861\n",
       "Name: count, dtype: int64"
      ]
     },
     "execution_count": 12,
     "metadata": {},
     "output_type": "execute_result"
    }
   ],
   "source": [
    "df['Urban_or_Rural'].value_counts()"
   ]
  },
  {
   "cell_type": "code",
   "execution_count": null,
   "id": "11115ec1-e4c0-4dc7-a10e-3fa86a776fe0",
   "metadata": {},
   "outputs": [],
   "source": [
    "# Explore the primary devices used by kids"
   ]
  },
  {
   "cell_type": "code",
   "execution_count": 13,
   "id": "13400857-798f-4231-8c66-319a817c48c4",
   "metadata": {},
   "outputs": [
    {
     "data": {
      "text/plain": [
       "Primary_Device\n",
       "Smartphone    4568\n",
       "TV            2487\n",
       "Laptop        1433\n",
       "Tablet        1224\n",
       "Name: count, dtype: int64"
      ]
     },
     "execution_count": 13,
     "metadata": {},
     "output_type": "execute_result"
    }
   ],
   "source": [
    "df['Primary_Device'].value_counts()"
   ]
  },
  {
   "cell_type": "code",
   "execution_count": null,
   "id": "3351904b-0c45-41dd-a0ea-93d12e614250",
   "metadata": {},
   "outputs": [],
   "source": [
    "# Explore gender distribution"
   ]
  },
  {
   "cell_type": "code",
   "execution_count": 14,
   "id": "14602bf3-69d6-4283-b059-22fc8a2614b1",
   "metadata": {},
   "outputs": [
    {
     "data": {
      "text/plain": [
       "Gender\n",
       "Male      4942\n",
       "Female    4770\n",
       "Name: count, dtype: int64"
      ]
     },
     "execution_count": 14,
     "metadata": {},
     "output_type": "execute_result"
    }
   ],
   "source": [
    "df['Gender'].value_counts()"
   ]
  },
  {
   "cell_type": "code",
   "execution_count": null,
   "id": "ed9ecb9d-bdb3-4be7-b45e-8d0ff6825610",
   "metadata": {},
   "outputs": [],
   "source": [
    "# Create age bands for children"
   ]
  },
  {
   "cell_type": "code",
   "execution_count": 15,
   "id": "2eca4f1d-7a4e-47e5-a450-4b942f951cc7",
   "metadata": {},
   "outputs": [],
   "source": [
    "import pandas as pd\n",
    "\n",
    "bins = [0, 8, 12, 17]\n",
    "labels = ['Kids', 'Pre-Teens', 'Teens']\n",
    "df['Age_Band'] = pd.cut(df['Age'], bins=bins, labels=labels, right=True)\n"
   ]
  },
  {
   "cell_type": "code",
   "execution_count": null,
   "id": "08b666bc-4b5f-4e00-a77b-6ad76d59fa5c",
   "metadata": {},
   "outputs": [],
   "source": [
    "# Classify kids based on daily screen time"
   ]
  },
  {
   "cell_type": "code",
   "execution_count": 16,
   "id": "1b8914b0-c5fb-4198-808f-c1514e2f59c5",
   "metadata": {},
   "outputs": [],
   "source": [
    "df['Usage_Category'] = pd.cut(\n",
    "    df['Avg_Daily_Screen_Time_hr'],\n",
    "    bins=[0, 2, 4, 8, 12],\n",
    "    labels=['Low', 'Moderate', 'High', 'Excessive']\n",
    ")\n"
   ]
  },
  {
   "cell_type": "code",
   "execution_count": null,
   "id": "aab8946f-9a63-40f0-8a48-31b3964b876a",
   "metadata": {},
   "outputs": [],
   "source": [
    "# Calculate Screen Time Efficiency\n",
    "# Efficiency = educational/recreational ratio per hour of screen time, rounded to 2 decimals"
   ]
  },
  {
   "cell_type": "code",
   "execution_count": 17,
   "id": "4c23024d-df9a-41bc-9bd4-869a7909f153",
   "metadata": {},
   "outputs": [],
   "source": [
    "df['Screen_Time_Efficiency'] = (\n",
    "    df['Educational_to_Recreational_Ratio'] / df['Avg_Daily_Screen_Time_hr']\n",
    ").round(2)\n"
   ]
  },
  {
   "cell_type": "code",
   "execution_count": null,
   "id": "b03edd02-757c-4e91-90d2-7013c1a7423d",
   "metadata": {},
   "outputs": [],
   "source": []
  },
  {
   "cell_type": "code",
   "execution_count": 18,
   "id": "1c892ab5-2ad9-4d8f-8ccc-6ab9e0ab1079",
   "metadata": {},
   "outputs": [],
   "source": [
    "df.to_csv('cleaned_kids_screentime.csv', index=False)\n"
   ]
  },
  {
   "cell_type": "code",
   "execution_count": 19,
   "id": "bb6b4595-4ad6-43a6-a286-b7ad67f97ba8",
   "metadata": {},
   "outputs": [
    {
     "name": "stderr",
     "output_type": "stream",
     "text": [
      "C:\\Users\\pulib\\AppData\\Local\\Temp\\ipykernel_5900\\1414826105.py:4: FutureWarning: \n",
      "\n",
      "Passing `palette` without assigning `hue` is deprecated and will be removed in v0.14.0. Assign the `x` variable to `hue` and set `legend=False` for the same effect.\n",
      "\n",
      "  sns.countplot(data=df, x='Urban_or_Rural', palette='Set2')\n"
     ]
    },
    {
     "data": {
      "image/png": "[encoded data removed]",
      "text/plain": [
       "<Figure size 600x400 with 1 Axes>"
      ]
     },
     "metadata": {},
     "output_type": "display_data"
    }
   ],
   "source": [
    "\n",
    "sns.set(style=\"whitegrid\")\n",
    "# 1. Urban vs Rural distribution\n",
    "plt.figure(figsize=(6,4))\n",
    "sns.countplot(data=df, x='Urban_or_Rural', palette='Set2')\n",
    "plt.title('Distribution of Kids by Area')\n",
    "plt.xlabel('Area')\n",
    "plt.ylabel('Count')\n",
    "plt.show()"
   ]
  },
  {
   "cell_type": "code",
   "execution_count": 20,
   "id": "9f3174c7-2bd3-4ee1-be12-abbafe8f2482",
   "metadata": {},
   "outputs": [
    {
     "name": "stderr",
     "output_type": "stream",
     "text": [
      "C:\\Users\\pulib\\AppData\\Local\\Temp\\ipykernel_5900\\2085412523.py:3: FutureWarning: \n",
      "\n",
      "Passing `palette` without assigning `hue` is deprecated and will be removed in v0.14.0. Assign the `x` variable to `hue` and set `legend=False` for the same effect.\n",
      "\n",
      "  sns.countplot(data=df, x='Primary_Device', order=df['Primary_Device'].value_counts().index, palette='Set3')\n"
     ]
    },
    {
     "data": {
      "image/png": "[encoded data removed]",
      "text/plain": [
       "<Figure size 800x400 with 1 Axes>"
      ]
     },
     "metadata": {},
     "output_type": "display_data"
    }
   ],
   "source": [
    "# 2. Primary Device usage\n",
    "plt.figure(figsize=(8,4))\n",
    "sns.countplot(data=df, x='Primary_Device', order=df['Primary_Device'].value_counts().index, palette='Set3')\n",
    "plt.title('Primary Device Usage')\n",
    "plt.xlabel('Device')\n",
    "plt.ylabel('Count')\n",
    "plt.show()"
   ]
  },
  {
   "cell_type": "code",
   "execution_count": 21,
   "id": "e7fd9af7-46a9-4490-a339-979baf12632a",
   "metadata": {},
   "outputs": [
    {
     "name": "stderr",
     "output_type": "stream",
     "text": [
      "C:\\Users\\pulib\\AppData\\Local\\Temp\\ipykernel_5900\\1698805785.py:3: FutureWarning: \n",
      "\n",
      "Passing `palette` without assigning `hue` is deprecated and will be removed in v0.14.0. Assign the `x` variable to `hue` and set `legend=False` for the same effect.\n",
      "\n",
      "  sns.countplot(data=df, x='Gender', palette='pastel')\n"
     ]
    },
    {
     "data": {
      "image/png": "[encoded data removed]",
      "text/plain": [
       "<Figure size 600x400 with 1 Axes>"
      ]
     },
     "metadata": {},
     "output_type": "display_data"
    }
   ],
   "source": [
    "# 3. Gender distribution\n",
    "plt.figure(figsize=(6,4))\n",
    "sns.countplot(data=df, x='Gender', palette='pastel')\n",
    "plt.title('Gender Distribution')\n",
    "plt.xlabel('Gender')\n",
    "plt.ylabel('Count')\n",
    "plt.show()"
   ]
  },
  {
   "cell_type": "code",
   "execution_count": 22,
   "id": "e75ee737-a103-48d6-a219-e79abcceba66",
   "metadata": {},
   "outputs": [
    {
     "name": "stderr",
     "output_type": "stream",
     "text": [
      "C:\\Users\\pulib\\AppData\\Local\\Temp\\ipykernel_5900\\1650859646.py:3: FutureWarning: \n",
      "\n",
      "Passing `palette` without assigning `hue` is deprecated and will be removed in v0.14.0. Assign the `x` variable to `hue` and set `legend=False` for the same effect.\n",
      "\n",
      "  sns.countplot(data=df, x='Age_Band', palette='coolwarm')\n"
     ]
    },
    {
     "data": {
      "image/png": "[encoded data removed]",
      "text/plain": [
       "<Figure size 600x400 with 1 Axes>"
      ]
     },
     "metadata": {},
     "output_type": "display_data"
    }
   ],
   "source": [
    "# 4. Age Band distribution\n",
    "plt.figure(figsize=(6,4))\n",
    "sns.countplot(data=df, x='Age_Band', palette='coolwarm')\n",
    "plt.title('Kids by Age Group')\n",
    "plt.xlabel('Age Band')\n",
    "plt.ylabel('Count')\n",
    "plt.show()"
   ]
  },
  {
   "cell_type": "code",
   "execution_count": 23,
   "id": "e003990c-15ad-4fdd-b29d-fdefce773fc2",
   "metadata": {},
   "outputs": [
    {
     "name": "stderr",
     "output_type": "stream",
     "text": [
      "C:\\Users\\pulib\\AppData\\Local\\Temp\\ipykernel_5900\\854768287.py:1: FutureWarning: \n",
      "\n",
      "Passing `palette` without assigning `hue` is deprecated and will be removed in v0.14.0. Assign the `x` variable to `hue` and set `legend=False` for the same effect.\n",
      "\n",
      "  sns.countplot(data=df, x='Age_Band', palette='coolwarm')\n"
     ]
    },
    {
     "data": {
      "image/png": "[encoded data removed]",
      "text/plain": [
       "<Figure size 640x480 with 1 Axes>"
      ]
     },
     "metadata": {},
     "output_type": "display_data"
    }
   ],
   "source": [
    "sns.countplot(data=df, x='Age_Band', palette='coolwarm')\n",
    "plt.title('Kids by Age Group')\n",
    "plt.show()\n"
   ]
  },
  {
   "cell_type": "code",
   "execution_count": null,
   "id": "1733704c-7e9c-400d-8ff4-f38db86d1230",
   "metadata": {},
   "outputs": [],
   "source": [
    "# Screen Time Usage Category"
   ]
  },
  {
   "cell_type": "code",
   "execution_count": 24,
   "id": "16385a62-8022-4277-ab3b-ff894f979779",
   "metadata": {},
   "outputs": [
    {
     "name": "stderr",
     "output_type": "stream",
     "text": [
      "C:\\Users\\pulib\\AppData\\Local\\Temp\\ipykernel_5900\\3329619348.py:1: FutureWarning: \n",
      "\n",
      "Passing `palette` without assigning `hue` is deprecated and will be removed in v0.14.0. Assign the `x` variable to `hue` and set `legend=False` for the same effect.\n",
      "\n",
      "  sns.countplot(data=df, x='Usage_Category', palette='viridis')\n"
     ]
    },
    {
     "data": {
      "image/png": "[encoded data removed]",
      "text/plain": [
       "<Figure size 640x480 with 1 Axes>"
      ]
     },
     "metadata": {},
     "output_type": "display_data"
    }
   ],
   "source": [
    "sns.countplot(data=df, x='Usage_Category', palette='viridis')\n",
    "plt.title('Screen Time Usage Category')\n",
    "plt.show()\n"
   ]
  },
  {
   "cell_type": "code",
   "execution_count": null,
   "id": "d26bdcb8-c039-4dd9-a47b-2abfa1421d25",
   "metadata": {},
   "outputs": [],
   "source": [
    "#Screen Time Efficiency\n",
    "#Efficiency = Educational / Recreational Ratio ÷ Avg Daily Screen Time"
   ]
  },
  {
   "cell_type": "code",
   "execution_count": 25,
   "id": "95157773-052d-4de4-ad6c-5af09a62ff98",
   "metadata": {},
   "outputs": [
    {
     "name": "stderr",
     "output_type": "stream",
     "text": [
      "C:\\Users\\pulib\\AppData\\Local\\Temp\\ipykernel_5900\\334337511.py:1: FutureWarning: \n",
      "\n",
      "Passing `palette` without assigning `hue` is deprecated and will be removed in v0.14.0. Assign the `x` variable to `hue` and set `legend=False` for the same effect.\n",
      "\n",
      "  sns.boxplot(data=df, x='Age_Band', y='Screen_Time_Efficiency', palette='magma')\n"
     ]
    },
    {
     "data": {
      "image/png": "[encoded data removed]",
      "text/plain": [
       "<Figure size 640x480 with 1 Axes>"
      ]
     },
     "metadata": {},
     "output_type": "display_data"
    }
   ],
   "source": [
    "sns.boxplot(data=df, x='Age_Band', y='Screen_Time_Efficiency', palette='magma')\n",
    "plt.title('Screen Time Efficiency by Age Group')\n",
    "plt.show()\n"
   ]
  },
  {
   "cell_type": "code",
   "execution_count": null,
   "id": "93ee3197-0d06-4046-82b5-6a5da8706df3",
   "metadata": {},
   "outputs": [],
   "source": []
  }
 ],
 "metadata": {
  "kernelspec": {
   "display_name": "Python 3 (ipykernel)",
   "language": "python",
   "name": "python3"
  },
  "language_info": {
   "codemirror_mode": {
    "name": "ipython",
    "version": 3
   },
   "file_extension": ".py",
   "mimetype": "text/x-python",
   "name": "python",
   "nbconvert_exporter": "python",
   "pygments_lexer": "ipython3",
   "version": "3.13.5"
  }
 },
 "nbformat": 4,
 "nbformat_minor": 5
}
